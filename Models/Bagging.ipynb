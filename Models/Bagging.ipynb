{
 "cells": [
  {
   "cell_type": "code",
   "execution_count": 53,
   "id": "30f6c8e7",
   "metadata": {},
   "outputs": [],
   "source": [
    "import pandas as pd\n",
    "import numpy as np\n",
    "import matplotlib.pyplot as plt\n",
    "from sklearn.linear_model import LinearRegression,LogisticRegression\n",
    "from sklearn.model_selection import train_test_split\n",
    "from sklearn.preprocessing import StandardScaler\n",
    "from sklearn.ensemble import BaggingClassifier, RandomForestClassifier\n",
    "from sklearn.tree import DecisionTreeClassifier\n",
    "from sklearn.datasets import make_classification\n",
    "from sklearn.model_selection import cross_val_score\n",
    "from xgboost import XGBClassifier"
   ]
  },
  {
   "cell_type": "code",
   "execution_count": 10,
   "id": "b9582bef",
   "metadata": {},
   "outputs": [
    {
     "name": "stderr",
     "output_type": "stream",
     "text": [
      "C:\\Users\\shupe\\anaconda3\\lib\\site-packages\\pandas\\io\\sql.py:761: UserWarning: pandas only support SQLAlchemy connectable(engine/connection) ordatabase string URI or sqlite3 DBAPI2 connectionother DBAPI2 objects are not tested, please consider using SQLAlchemy\n",
      "  warnings.warn(\n"
     ]
    },
    {
     "data": {
      "text/html": [
       "<div>\n",
       "<style scoped>\n",
       "    .dataframe tbody tr th:only-of-type {\n",
       "        vertical-align: middle;\n",
       "    }\n",
       "\n",
       "    .dataframe tbody tr th {\n",
       "        vertical-align: top;\n",
       "    }\n",
       "\n",
       "    .dataframe thead th {\n",
       "        text-align: right;\n",
       "    }\n",
       "</style>\n",
       "<table border=\"1\" class=\"dataframe\">\n",
       "  <thead>\n",
       "    <tr style=\"text-align: right;\">\n",
       "      <th></th>\n",
       "      <th>index</th>\n",
       "      <th>Rebook Rating</th>\n",
       "      <th>Overall City Value</th>\n",
       "      <th>Overall Meeting Value</th>\n",
       "      <th>Ease of Business</th>\n",
       "      <th>Cleanliness</th>\n",
       "      <th>Entertainment / Attractions</th>\n",
       "      <th>Shopping</th>\n",
       "      <th>Overall Attendance</th>\n",
       "      <th>International Attendance</th>\n",
       "    </tr>\n",
       "  </thead>\n",
       "  <tbody>\n",
       "    <tr>\n",
       "      <th>0</th>\n",
       "      <td>282</td>\n",
       "      <td>1.0</td>\n",
       "      <td>5.0</td>\n",
       "      <td>3.0</td>\n",
       "      <td>5.0</td>\n",
       "      <td>4.0</td>\n",
       "      <td>4.0</td>\n",
       "      <td>3.0</td>\n",
       "      <td>4.0</td>\n",
       "      <td>4.0</td>\n",
       "    </tr>\n",
       "    <tr>\n",
       "      <th>1</th>\n",
       "      <td>283</td>\n",
       "      <td>0.0</td>\n",
       "      <td>3.0</td>\n",
       "      <td>3.0</td>\n",
       "      <td>3.0</td>\n",
       "      <td>3.0</td>\n",
       "      <td>4.0</td>\n",
       "      <td>3.0</td>\n",
       "      <td>1.0</td>\n",
       "      <td>1.0</td>\n",
       "    </tr>\n",
       "    <tr>\n",
       "      <th>2</th>\n",
       "      <td>284</td>\n",
       "      <td>0.0</td>\n",
       "      <td>4.0</td>\n",
       "      <td>5.0</td>\n",
       "      <td>3.0</td>\n",
       "      <td>4.0</td>\n",
       "      <td>5.0</td>\n",
       "      <td>3.0</td>\n",
       "      <td>2.0</td>\n",
       "      <td>2.0</td>\n",
       "    </tr>\n",
       "    <tr>\n",
       "      <th>3</th>\n",
       "      <td>287</td>\n",
       "      <td>0.0</td>\n",
       "      <td>4.0</td>\n",
       "      <td>4.0</td>\n",
       "      <td>4.0</td>\n",
       "      <td>3.0</td>\n",
       "      <td>3.0</td>\n",
       "      <td>2.0</td>\n",
       "      <td>4.0</td>\n",
       "      <td>3.0</td>\n",
       "    </tr>\n",
       "    <tr>\n",
       "      <th>4</th>\n",
       "      <td>289</td>\n",
       "      <td>1.0</td>\n",
       "      <td>5.0</td>\n",
       "      <td>5.0</td>\n",
       "      <td>4.0</td>\n",
       "      <td>5.0</td>\n",
       "      <td>4.0</td>\n",
       "      <td>3.0</td>\n",
       "      <td>4.0</td>\n",
       "      <td>4.0</td>\n",
       "    </tr>\n",
       "  </tbody>\n",
       "</table>\n",
       "</div>"
      ],
      "text/plain": [
       "   index  Rebook Rating  Overall City Value  Overall Meeting Value  \\\n",
       "0    282            1.0                 5.0                    3.0   \n",
       "1    283            0.0                 3.0                    3.0   \n",
       "2    284            0.0                 4.0                    5.0   \n",
       "3    287            0.0                 4.0                    4.0   \n",
       "4    289            1.0                 5.0                    5.0   \n",
       "\n",
       "   Ease of Business  Cleanliness  Entertainment / Attractions  Shopping  \\\n",
       "0               5.0          4.0                          4.0       3.0   \n",
       "1               3.0          3.0                          4.0       3.0   \n",
       "2               3.0          4.0                          5.0       3.0   \n",
       "3               4.0          3.0                          3.0       2.0   \n",
       "4               4.0          5.0                          4.0       3.0   \n",
       "\n",
       "   Overall Attendance  International Attendance  \n",
       "0                 4.0                       4.0  \n",
       "1                 1.0                       1.0  \n",
       "2                 2.0                       2.0  \n",
       "3                 4.0                       3.0  \n",
       "4                 4.0                       4.0  "
      ]
     },
     "execution_count": 10,
     "metadata": {},
     "output_type": "execute_result"
    }
   ],
   "source": [
    "import psycopg2\n",
    "\n",
    "# Establish connection to PostgreSQL database\n",
    "conn = psycopg2.connect(database=\"Event_Feedback\", user=\"postgres\", password=\"hdd@183116\", host=\"localhost\")\n",
    "\n",
    "# Execute SQL query and load data into pandas dataframe\n",
    "df = pd.read_sql_query(\"SELECT * FROM event_data;\", conn)\n",
    "\n",
    "# Close database connection\n",
    "conn.close()\n",
    "\n",
    "# Display dataframe\n",
    "df.head()"
   ]
  },
  {
   "cell_type": "code",
   "execution_count": 11,
   "id": "158679ab",
   "metadata": {},
   "outputs": [],
   "source": [
    "df=df.drop(df.columns[[0]], axis=1)"
   ]
  },
  {
   "cell_type": "code",
   "execution_count": 12,
   "id": "75bb38ff",
   "metadata": {},
   "outputs": [],
   "source": [
    "X = df.drop(['Rebook Rating'], axis=1)\n",
    "y = df['Rebook Rating']"
   ]
  },
  {
   "cell_type": "code",
   "execution_count": 47,
   "id": "fc92677b",
   "metadata": {},
   "outputs": [],
   "source": [
    "X_train, X_test, y_train, y_test = train_test_split(X, y, test_size = 0.2, random_state = 42)\n",
    "scaler = StandardScaler()\n",
    "X_train = scaler.fit_transform(X_train)\n",
    "X_test = scaler.transform(X_test)"
   ]
  },
  {
   "cell_type": "code",
   "execution_count": 81,
   "id": "6347a7e0",
   "metadata": {},
   "outputs": [
    {
     "data": {
      "text/plain": [
       "0.6666666666666666"
      ]
     },
     "execution_count": 81,
     "metadata": {},
     "output_type": "execute_result"
    }
   ],
   "source": [
    "bag_model = BaggingClassifier(\n",
    "base_estimator=DecisionTreeClassifier(), \n",
    "n_estimators=100, \n",
    "max_samples=.5, \n",
    "bootstrap=True,\n",
    "random_state=42\n",
    ")\n",
    "bag_model.fit(X_train, y_train)\n",
    "bag_model.score(X_test, y_test)"
   ]
  },
  {
   "cell_type": "code",
   "execution_count": 80,
   "id": "4c6d2fa9",
   "metadata": {},
   "outputs": [
    {
     "data": {
      "text/plain": [
       "0.7222222222222222"
      ]
     },
     "execution_count": 80,
     "metadata": {},
     "output_type": "execute_result"
    }
   ],
   "source": [
    "bag_model = BaggingClassifier(\n",
    "base_estimator=XGBClassifier(), \n",
    "n_estimators=100, \n",
    "max_samples=.5, \n",
    "bootstrap=True,\n",
    "oob_score=False,\n",
    "random_state=42\n",
    ")\n",
    "bag_model.fit(X_train, y_train)\n",
    "bag_model.score(X_test, y_test)"
   ]
  },
  {
   "cell_type": "code",
   "execution_count": 82,
   "id": "b08cc122",
   "metadata": {},
   "outputs": [
    {
     "data": {
      "text/plain": [
       "0.7777777777777778"
      ]
     },
     "execution_count": 82,
     "metadata": {},
     "output_type": "execute_result"
    }
   ],
   "source": [
    "bag_model = BaggingClassifier(\n",
    "base_estimator=RandomForestClassifier(), \n",
    "n_estimators=100, \n",
    "max_samples=.5, \n",
    "bootstrap=True,\n",
    "oob_score=False,\n",
    "random_state=42\n",
    ")\n",
    "bag_model.fit(X_train, y_train)\n",
    "bag_model.score(X_test, y_test)"
   ]
  }
 ],
 "metadata": {
  "kernelspec": {
   "display_name": "Python 3 (ipykernel)",
   "language": "python",
   "name": "python3"
  },
  "language_info": {
   "codemirror_mode": {
    "name": "ipython",
    "version": 3
   },
   "file_extension": ".py",
   "mimetype": "text/x-python",
   "name": "python",
   "nbconvert_exporter": "python",
   "pygments_lexer": "ipython3",
   "version": "3.9.12"
  }
 },
 "nbformat": 4,
 "nbformat_minor": 5
}
